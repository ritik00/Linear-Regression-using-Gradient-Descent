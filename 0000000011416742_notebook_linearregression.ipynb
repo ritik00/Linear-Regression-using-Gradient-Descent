{
 "cells": [
  {
   "cell_type": "code",
   "execution_count": 3,
   "metadata": {},
   "outputs": [
    {
     "data": {
      "text/plain": [
       "'C:\\\\Users\\\\johnwickxxl'"
      ]
     },
     "execution_count": 3,
     "metadata": {},
     "output_type": "execute_result"
    }
   ],
   "source": [
    "pwd"
   ]
  },
  {
   "cell_type": "code",
   "execution_count": 46,
   "metadata": {},
   "outputs": [
    {
     "data": {
      "image/png": "[encoded data removed]",
      "text/plain": [
       "<Figure size 432x288 with 1 Axes>"
      ]
     },
     "metadata": {
      "needs_background": "light"
     },
     "output_type": "display_data"
    },
    {
     "name": "stdout",
     "output_type": "stream",
     "text": [
      "0.5052080692738942\n"
     ]
    }
   ],
   "source": [
    "def c(y_pred,y_true):\n",
    "  u=((y_true-y_pred)**2).sum()\n",
    "  v=((y_true-y_true.mean())**2).sum()\n",
    "  return 1-u/v\n",
    "import numpy as np\n",
    "data=np.loadtxt(\"0000000000002329_training_diabetes_x_y_train.csv\",delimiter=\",\")\n",
    "data2=np.loadtxt(\"0000000000002329_test_diabetes_x_test.csv\",delimiter=\",\")\n",
    "x_submit=data2[:,:]\n",
    "x=data[:,0:10]\n",
    "y=data[:,10]\n",
    "from sklearn import model_selection\n",
    "x_train,x_test,y_train,y_test=model_selection.train_test_split(x,y)\n",
    "from sklearn.linear_model import LinearRegression\n",
    "alg1=LinearRegression()\n",
    "alg1.fit(x_train,y_train)\n",
    "y_pred=alg1.predict(x_test)\n",
    "import matplotlib.pyplot as plt\n",
    "plt.scatter(y_test,y_pred)\n",
    "plt.show()\n",
    "print(c(y_pred,y_test))\n",
    "y_submit=alg1.predict(x_submit)\n",
    "np.savetxt(\"y_prediction.csv\",y_submit)"
   ]
  },
  {
   "cell_type": "code",
   "execution_count": null,
   "metadata": {},
   "outputs": [],
   "source": []
  }
 ],
 "metadata": {
  "kernelspec": {
   "display_name": "Python 3",
   "language": "python",
   "name": "python3"
  },
  "language_info": {
   "codemirror_mode": {
    "name": "ipython",
    "version": 3
   },
   "file_extension": ".py",
   "mimetype": "text/x-python",
   "name": "python",
   "nbconvert_exporter": "python",
   "pygments_lexer": "ipython3",
   "version": "3.7.7"
  }
 },
 "nbformat": 4,
 "nbformat_minor": 2
}
