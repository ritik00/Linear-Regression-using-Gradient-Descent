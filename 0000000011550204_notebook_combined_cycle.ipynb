{
 "cells": [
  {
   "cell_type": "code",
   "execution_count": 1,
   "metadata": {
    "scrolled": true
   },
   "outputs": [],
   "source": [
    "import numpy as np"
   ]
  },
  {
   "cell_type": "code",
   "execution_count": 2,
   "metadata": {},
   "outputs": [],
   "source": [
    "def cost(y,m,data):\n",
    "    cost=0\n",
    "    for i in range(len(data)):\n",
    "        cost+=(y[i]-(m*data[i]).sum())**2\n",
    "    return cost    "
   ]
  },
  {
   "cell_type": "code",
   "execution_count": 3,
   "metadata": {},
   "outputs": [],
   "source": [
    "def step_gradient(data,lr,m,c,y):\n",
    "    m_slope=np.zeros((len(data[0])))\n",
    "    c_slope=np.zeros((len(data[0])))\n",
    "    N=len(data)\n",
    "    for i in range((len(data[0]))):           \n",
    "        for j in range((len(data))):\n",
    "            x=data[j]    \n",
    "            m_slope[i]+=-2/N*(y[j]-(m*x).sum())*x[i]\n",
    "    new_m=m-lr*m_slope\n",
    "    return new_m             "
   ]
  },
  {
   "cell_type": "code",
   "execution_count": 4,
   "metadata": {},
   "outputs": [],
   "source": [
    "def gd(data,lr,itera,y):\n",
    "    m=np.zeros((len(data[0])))\n",
    "    c=np.zeros((len(data[0])))\n",
    "    for i in range(itera):\n",
    "          m=step_gradient(data,lr,m,c,y)\n",
    "          \n",
    "          \n",
    "    return m       "
   ]
  },
  {
   "cell_type": "code",
   "execution_count": 19,
   "metadata": {},
   "outputs": [],
   "source": [
    "def run():\n",
    "    \n",
    "    data=np.loadtxt(\"0000000000002419_training_ccpp_x_y_train.csv\",delimiter=\",\")\n",
    "    data2=np.loadtxt(\"0000000000002419_test_ccpp_x_test.csv\",delimiter=\",\")\n",
    "    \n",
    "    data1=np.ones((len(data),len(data[0])))\n",
    "    data1[:,0:len(data[0])-1]=data[:,0:len(data[0])-1]\n",
    "    data3=np.ones((len(data2),len(data[0])))\n",
    "    data3[:,0:len(data[0])-1]=data2[:,0:len(data[0])-1]\n",
    "    y=data[:,4]\n",
    "    lr=.0000009\n",
    "    itera=50000\n",
    "    \n",
    "    m=gd(data1,lr,itera,y)\n",
    "    y_pred=np.zeros((len(data3)))\n",
    "    for i in range (len(data3)):\n",
    "        y_pred[i]=(m*data3[i]).sum()\n",
    "    print(y_pred)    \n",
    "    np.savetxt(\"y_predp2.csv\",y_pred)   "
   ]
  },
  {
   "cell_type": "code",
   "execution_count": null,
   "metadata": {
    "scrolled": false
   },
   "outputs": [],
   "source": [
    "run()\n"
   ]
  },
  {
   "cell_type": "code",
   "execution_count": null,
   "metadata": {},
   "outputs": [],
   "source": [
    "\n"
   ]
  }
 ],
 "metadata": {
  "kernelspec": {
   "display_name": "Python 3",
   "language": "python",
   "name": "python3"
  },
  "language_info": {
   "codemirror_mode": {
    "name": "ipython",
    "version": 3
   },
   "file_extension": ".py",
   "mimetype": "text/x-python",
   "name": "python",
   "nbconvert_exporter": "python",
   "pygments_lexer": "ipython3",
   "version": "3.7.4"
  }
 },
 "nbformat": 4,
 "nbformat_minor": 2
}
